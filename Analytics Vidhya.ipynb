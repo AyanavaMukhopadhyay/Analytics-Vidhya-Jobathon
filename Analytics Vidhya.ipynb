{
 "cells": [
  {
   "cell_type": "code",
   "execution_count": null,
   "metadata": {},
   "outputs": [],
   "source": [
    "import numpy as np\n",
    "import pandas as pd\n",
    "import matplotlib.pyplot as plt\n",
    "import seaborn as sns"
   ]
  },
  {
   "cell_type": "code",
   "execution_count": null,
   "metadata": {},
   "outputs": [],
   "source": [
    "df=pd.read_csv('analytics_vidhya.csv')\n",
    "df.shape"
   ]
  },
  {
   "cell_type": "code",
   "execution_count": null,
   "metadata": {},
   "outputs": [],
   "source": [
    "test=pd.read_csv('analytics_vidhya_test.csv')\n",
    "test.shape"
   ]
  },
  {
   "cell_type": "code",
   "execution_count": null,
   "metadata": {},
   "outputs": [],
   "source": [
    "df.head()"
   ]
  },
  {
   "cell_type": "code",
   "execution_count": null,
   "metadata": {},
   "outputs": [],
   "source": [
    "sns.countplot(df.buy)"
   ]
  },
  {
   "cell_type": "code",
   "execution_count": null,
   "metadata": {},
   "outputs": [],
   "source": [
    "df.buy.value_counts()"
   ]
  },
  {
   "cell_type": "code",
   "execution_count": null,
   "metadata": {},
   "outputs": [],
   "source": [
    "df.info()"
   ]
  },
  {
   "cell_type": "code",
   "execution_count": null,
   "metadata": {},
   "outputs": [],
   "source": [
    "df.signup_date=pd.to_datetime(df.signup_date,format='%Y-%m-%d')\n",
    "df.created_at=pd.to_datetime(df.created_at,format='%Y-%m-%d')"
   ]
  },
  {
   "cell_type": "code",
   "execution_count": null,
   "metadata": {},
   "outputs": [],
   "source": [
    "test.signup_date=pd.to_datetime(test.signup_date,format='%Y-%m-%d')\n",
    "test.created_at=pd.to_datetime(test.created_at,format='%Y-%m-%d')"
   ]
  },
  {
   "cell_type": "code",
   "execution_count": null,
   "metadata": {},
   "outputs": [],
   "source": [
    "df.isnull().sum()[df.isnull().sum()>0]"
   ]
  },
  {
   "cell_type": "code",
   "execution_count": null,
   "metadata": {},
   "outputs": [],
   "source": [
    "df[df.signup_date.isnull()==True]"
   ]
  },
  {
   "cell_type": "code",
   "execution_count": null,
   "metadata": {},
   "outputs": [],
   "source": [
    "def date_cols(data):\n",
    "    #signup\n",
    "    data[\"signup_year\"]=data[\"signup_date\"].dt.year\n",
    "    data[\"signup_month\"]=data[\"signup_date\"].dt.month\n",
    "    data[\"signup_week\"]=data[\"signup_date\"].dt.week\n",
    "    data[\"signup_quarter\"]=data[\"signup_date\"].dt.quarter\n",
    "    data[\"signup_weekday\"]=data[\"signup_date\"].dt.weekday\n",
    "    data[\"is_signup\"]=data[\"signup_date\"].fillna(0)\n",
    "    data[\"is_signup\"]=data[\"is_signup\"].apply(lambda x: 0 if x==0 else 1)\n",
    "    data[\"signup_days\"]=(data[\"signup_date\"]-pd.to_datetime(\"1970-01-01\")).dt.days\n",
    "    \n",
    "    # created_at            \n",
    "    data[\"created_year\"]=data[\"created_at\"].dt.year\n",
    "    data[\"created_month\"]=data[\"created_at\"].dt.month\n",
    "    data[\"created_week\"]=data[\"created_at\"].dt.week\n",
    "    data[\"created_quarter\"]=data[\"created_at\"].dt.quarter\n",
    "    data[\"created_weekday\"]=data[\"created_at\"].dt.weekday.astype(int)\n",
    "    data[\"create_days\"]=(data[\"created_at\"]-pd.to_datetime(\"1970-01-01\")).dt.days\n",
    "    \n",
    "    data[\"date_diff\"]=data[\"create_days\"]-data[\"signup_days\"]\n",
    "    \n",
    "    data.products_purchased=data.products_purchased.fillna(0)\n",
    "    \n",
    "    \n",
    "    return data "
   ]
  },
  {
   "cell_type": "code",
   "execution_count": null,
   "metadata": {},
   "outputs": [],
   "source": [
    "df=date_cols(df)\n",
    "\n",
    "test=date_cols(test)\n",
    "\n",
    "df.shape,test.shape"
   ]
  },
  {
   "cell_type": "code",
   "execution_count": null,
   "metadata": {},
   "outputs": [],
   "source": [
    "one_hot=pd.get_dummies(df.signup_quarter,dummy_na=True)\n",
    "\n",
    "df=df.join(one_hot)"
   ]
  },
  {
   "cell_type": "code",
   "execution_count": null,
   "metadata": {},
   "outputs": [],
   "source": [
    "one_hot=pd.get_dummies(test.signup_quarter,dummy_na=True)\n",
    "\n",
    "test=test.join(one_hot)\n",
    "\n",
    "df.shape,test.shape"
   ]
  },
  {
   "cell_type": "code",
   "execution_count": null,
   "metadata": {},
   "outputs": [],
   "source": [
    "one_hot=pd.get_dummies(df.created_quarter,prefix='create_',dummy_na=True)\n",
    "\n",
    "df=df.join(one_hot)\n",
    "\n",
    "one_hot=pd.get_dummies(test.created_quarter,prefix='create_',dummy_na=True)\n",
    "\n",
    "test=test.join(one_hot)"
   ]
  },
  {
   "cell_type": "code",
   "execution_count": null,
   "metadata": {},
   "outputs": [],
   "source": [
    "one_hot=pd.get_dummies(df.signup_month,prefix=\"sign_month\",dummy_na=True)\n",
    "\n",
    "df=df.join(one_hot)\n",
    "\n",
    "one_hot=pd.get_dummies(test.signup_month,prefix=\"sign_month\",dummy_na=True)\n",
    "\n",
    "test=test.join(one_hot)\n",
    "\n",
    "one_hot=pd.get_dummies(df.created_month,prefix=\"create_month\",dummy_na=True)\n",
    "\n",
    "df=df.join(one_hot)\n",
    "\n",
    "one_hot=pd.get_dummies(test.created_month,prefix=\"create_month\",dummy_na=True)\n",
    "\n",
    "test=test.join(one_hot)"
   ]
  },
  {
   "cell_type": "code",
   "execution_count": null,
   "metadata": {},
   "outputs": [],
   "source": [
    "one_hot=pd.get_dummies(df.signup_year,prefix=\"sign_year\",dummy_na=True)\n",
    "\n",
    "df=df.join(one_hot)\n",
    "\n",
    "one_hot=pd.get_dummies(test.signup_year,prefix=\"sign_year\",dummy_na=True)\n",
    "\n",
    "test=test.join(one_hot)\n",
    "\n",
    "one_hot=pd.get_dummies(df.created_year,prefix=\"create_year\",dummy_na=True)\n",
    "\n",
    "df=df.join(one_hot)\n",
    "\n",
    "one_hot=pd.get_dummies(test.created_year,prefix=\"create_year\",dummy_na=True)\n",
    "\n",
    "test=test.join(one_hot)"
   ]
  },
  {
   "cell_type": "code",
   "execution_count": null,
   "metadata": {},
   "outputs": [],
   "source": [
    "# pd.set_option('display.max_rows', 500)"
   ]
  },
  {
   "cell_type": "code",
   "execution_count": null,
   "metadata": {},
   "outputs": [],
   "source": [
    "df.info()"
   ]
  },
  {
   "cell_type": "code",
   "execution_count": null,
   "metadata": {},
   "outputs": [],
   "source": [
    "test.info()"
   ]
  },
  {
   "cell_type": "code",
   "execution_count": null,
   "metadata": {},
   "outputs": [],
   "source": [
    "df.groupby('campaign_var_1')['buy'].value_counts()"
   ]
  },
  {
   "cell_type": "code",
   "execution_count": null,
   "metadata": {},
   "outputs": [],
   "source": [
    "df.groupby('campaign_var_2')['buy'].value_counts()"
   ]
  },
  {
   "cell_type": "code",
   "execution_count": null,
   "metadata": {},
   "outputs": [],
   "source": [
    "df['new_cpn_1']=np.where(df.campaign_var_1.isin([2,3,4,5,6,7,8,9]),1,0)"
   ]
  },
  {
   "cell_type": "code",
   "execution_count": null,
   "metadata": {},
   "outputs": [],
   "source": [
    "test['new_cpn_1']=np.where(test.campaign_var_1.isin([2,3,4,5,6,7,8,9]),1,0)"
   ]
  },
  {
   "cell_type": "code",
   "execution_count": null,
   "metadata": {},
   "outputs": [],
   "source": [
    "df['new_cpn_2']=np.where(df.campaign_var_2.isin([2,3,4,5,6,7,8,9]),1,0)\n",
    "\n",
    "test['new_cpn_2']=np.where(test.campaign_var_2.isin([2,3,4,5,6,7,8,9]),1,0)"
   ]
  },
  {
   "cell_type": "code",
   "execution_count": null,
   "metadata": {},
   "outputs": [],
   "source": [
    "df['new_cpn_1_2']=np.where(df.campaign_var_1.isin([2,3,4,5,6]),1,0)\n",
    "\n",
    "test['new_cpn_1_2']=np.where(test.campaign_var_1.isin([2,3,4,5,6]),1,0)"
   ]
  },
  {
   "cell_type": "code",
   "execution_count": null,
   "metadata": {},
   "outputs": [],
   "source": [
    "df['new_cpn_2_2']=np.where(df.campaign_var_2.isin([2,3,4,5,6]),1,0)\n",
    "\n",
    "test['new_cpn_2_2']=np.where(test.campaign_var_2.isin([4,5,6,7]),1,0)"
   ]
  },
  {
   "cell_type": "code",
   "execution_count": null,
   "metadata": {},
   "outputs": [],
   "source": [
    "for i in range(1,13):\n",
    "  print(\"user_activity_var_\"+str(i)+\" :\")\n",
    "  print(df[\"user_activity_var_\"+str(i)].value_counts())\n",
    "  print(\"#\"*30)"
   ]
  },
  {
   "cell_type": "code",
   "execution_count": null,
   "metadata": {},
   "outputs": [],
   "source": [
    "l=df.columns"
   ]
  },
  {
   "cell_type": "code",
   "execution_count": null,
   "metadata": {},
   "outputs": [],
   "source": [
    "t=test.columns"
   ]
  },
  {
   "cell_type": "code",
   "execution_count": null,
   "metadata": {},
   "outputs": [],
   "source": [
    "l=set(l)\n",
    "t=set(t)\n",
    "d=l-t\n",
    "d"
   ]
  },
  {
   "cell_type": "code",
   "execution_count": null,
   "metadata": {},
   "outputs": [],
   "source": [
    "d=list(d)\n",
    "d"
   ]
  },
  {
   "cell_type": "code",
   "execution_count": null,
   "metadata": {},
   "outputs": [],
   "source": [
    "d.remove(d[0])\n",
    "d.remove('buy')"
   ]
  },
  {
   "cell_type": "code",
   "execution_count": null,
   "metadata": {},
   "outputs": [],
   "source": [
    "d.append('create_year_nan')\n",
    "d"
   ]
  },
  {
   "cell_type": "code",
   "execution_count": null,
   "metadata": {},
   "outputs": [],
   "source": [
    "df.drop(d,axis=1,inplace=True)\n",
    "test.drop(['create_year_2022.0','create_year_nan'],axis=1,inplace=True)"
   ]
  },
  {
   "cell_type": "code",
   "execution_count": null,
   "metadata": {},
   "outputs": [],
   "source": [
    "df.shape,test.shape"
   ]
  },
  {
   "cell_type": "code",
   "execution_count": null,
   "metadata": {},
   "outputs": [],
   "source": [
    "df.info()"
   ]
  },
  {
   "cell_type": "markdown",
   "metadata": {},
   "source": [
    "## Splitting Data"
   ]
  },
  {
   "cell_type": "code",
   "execution_count": null,
   "metadata": {},
   "outputs": [],
   "source": [
    "train=df[df.created_at<'2021-11-01']\n",
    "val1=df[(df.created_at>='2021-11-01') & (df.created_at<'2021-12-01')]\n",
    "val2=df[df.created_at>'2021-11-30']"
   ]
  },
  {
   "cell_type": "code",
   "execution_count": null,
   "metadata": {},
   "outputs": [],
   "source": [
    "train.info()"
   ]
  },
  {
   "cell_type": "markdown",
   "metadata": {},
   "source": [
    "# Mappers"
   ]
  },
  {
   "cell_type": "code",
   "execution_count": null,
   "metadata": {},
   "outputs": [],
   "source": [
    "def printCombination(arr, n, r,lst2=[]):\n",
    "    data = [0]*r;\n",
    "    combinationUtil(arr, data, 0,n - 1, 0, r,lst2);\n",
    "    return;\n",
    "\n",
    "def combinationUtil(arr, data, start,\n",
    "                    end, index, r,lst2):                     \n",
    "    if (index == r):\n",
    "        lst1=[]\n",
    "        for j in range(r):\n",
    "            lst1.append(data[j]);\n",
    "        #print(lst1)\n",
    "        lst2.append(lst1)\n",
    "        return ;\n",
    "\n",
    "    i = start;\n",
    "    while(i <= end and end - i + 1 >= r - index):\n",
    "        data[index] = arr[i];\n",
    "        combinationUtil(arr, data, i + 1,\n",
    "                        end, index + 1, r,lst2);\n",
    "        i += 1;"
   ]
  },
  {
   "cell_type": "code",
   "execution_count": null,
   "metadata": {},
   "outputs": [],
   "source": [
    "# 12,10,9,4\n",
    "arr = [1,2,3,5,6,7,8,11];\n",
    "r = 3;\n",
    "n = len(arr);\n",
    "lst2=[]\n",
    "(printCombination(arr, n, r,lst2));"
   ]
  },
  {
   "cell_type": "code",
   "execution_count": null,
   "metadata": {},
   "outputs": [],
   "source": [
    "def helper1(x,combo_dict,combo_var):\n",
    "  try :\n",
    "    res=combo_dict[(x[str(combo_var[0])],x[str(combo_var[1])],x[str(combo_var[2])])]\n",
    "    return res\n",
    "  except:\n",
    "    return 0\n",
    "\n",
    "\n",
    "combo_vars=[]\n",
    "for i in lst2:\n",
    "  combo_var=[]\n",
    "  combo_dict={}\n",
    "  user=\"user_activity_var_\"\n",
    "  for j in i:\n",
    "    combo_var.append(user+str(j))\n",
    "  combo_dict=train.groupby(combo_var)[\"buy\"].mean().to_dict()\n",
    "  train[\"user_activity_var_\"+str(i)]=train.apply(lambda x: helper1(x,combo_dict,combo_var),axis=1)\n",
    "  val1[\"user_activity_var_\"+str(i)]=val1.apply(lambda x: helper1(x,combo_dict,combo_var),axis=1)\n",
    "  val2[\"user_activity_var_\"+str(i)]=val2.apply(lambda x: helper1(x,combo_dict,combo_var),axis=1)\n",
    "  test[\"user_activity_var_\"+str(i)]=test.apply(lambda x: helper1(x,combo_dict,combo_var),axis=1)"
   ]
  },
  {
   "cell_type": "code",
   "execution_count": null,
   "metadata": {},
   "outputs": [],
   "source": [
    "train.shape,val1.shape,val2.shape,test.shape"
   ]
  },
  {
   "cell_type": "code",
   "execution_count": null,
   "metadata": {},
   "outputs": [],
   "source": [
    "def mean_mapper(data,train,x,y):\n",
    "  temp_dict=train.groupby(x)[y].mean().to_dict()\n",
    "  data[x+\"_mean\"]=data[x].map(temp_dict)\n",
    "  data[x+\"_mean\"]=data[x+\"_mean\"].fillna(0)\n",
    "\n",
    "def count_mapper(data,train,x,y):\n",
    "  temp_dict=train.groupby(x)[y].count().to_dict()\n",
    "  data[x+\"_count\"]=data[x].map(temp_dict)\n",
    "  data[x+\"_count\"]=data[x].fillna(0)"
   ]
  },
  {
   "cell_type": "code",
   "execution_count": null,
   "metadata": {},
   "outputs": [],
   "source": [
    "to_map=['signup_month', 'signup_week', 'signup_quarter', 'signup_weekday',\n",
    "       'is_signup', 'created_year', 'created_month',\n",
    "       'created_week', 'created_quarter', 'created_weekday', 'create_days',\n",
    "       'date_diff','campaign_var_1', 'campaign_var_2',]\n",
    "\n",
    "for i in to_map:\n",
    "  mean_mapper(train,train,i,\"buy\")\n",
    "  mean_mapper(val1,train,i,\"buy\")\n",
    "  mean_mapper(val2,train,i,\"buy\")\n",
    "  mean_mapper(test,train,i,\"buy\")\n",
    "\n",
    "  count_mapper(train,train,i,\"buy\")\n",
    "  count_mapper(val1,train,i,\"buy\")\n",
    "  count_mapper(val2,train,i,\"buy\")\n",
    "  count_mapper(test,train,i,\"buy\")"
   ]
  },
  {
   "cell_type": "code",
   "execution_count": null,
   "metadata": {},
   "outputs": [],
   "source": []
  },
  {
   "cell_type": "markdown",
   "metadata": {},
   "source": [
    "# Sampling"
   ]
  },
  {
   "cell_type": "code",
   "execution_count": null,
   "metadata": {},
   "outputs": [],
   "source": [
    "all=list(train.columns)\n",
    "all.remove(\"id\")\n",
    "all.remove(\"buy\")\n",
    "all.remove(\"created_at\")\n",
    "all.remove(\"signup_date\")"
   ]
  },
  {
   "cell_type": "markdown",
   "metadata": {},
   "source": [
    "## Smote"
   ]
  },
  {
   "cell_type": "code",
   "execution_count": null,
   "metadata": {},
   "outputs": [],
   "source": [
    "!pip install imblearn"
   ]
  },
  {
   "cell_type": "code",
   "execution_count": null,
   "metadata": {},
   "outputs": [],
   "source": [
    "from imblearn.over_sampling import SMOTE\n",
    "\n",
    "smote = SMOTE()\n",
    "\n",
    "# fit predictor and target variable\n",
    "x_smote, y_smote = smote.fit_resample(train[all].fillna(0),train.buy)"
   ]
  },
  {
   "cell_type": "code",
   "execution_count": null,
   "metadata": {},
   "outputs": [],
   "source": [
    "def Counter(x):\n",
    "  return x.value_counts().to_frame().to_dict()"
   ]
  },
  {
   "cell_type": "code",
   "execution_count": null,
   "metadata": {},
   "outputs": [],
   "source": [
    "print('Original dataset shape\\n', Counter(train.buy))\n",
    "print('Resample dataset shape\\n', Counter(y_smote))"
   ]
  },
  {
   "cell_type": "code",
   "execution_count": null,
   "metadata": {},
   "outputs": [],
   "source": [
    "from sklearn.feature_selection import RFE\n",
    "from lightgbm import LGBMClassifier\n",
    "from sklearn.ensemble import RandomForestClassifier\n",
    "\n",
    "rf_clf = RandomForestClassifier(max_depth=2, random_state=0,n_estimators=100)\n",
    "\n",
    "rfe = RFE(estimator=rf_clf, n_features_to_select=30,verbose=True)"
   ]
  },
  {
   "cell_type": "code",
   "execution_count": null,
   "metadata": {},
   "outputs": [],
   "source": [
    "rfe.fit(x_smote,y_smote)"
   ]
  },
  {
   "cell_type": "code",
   "execution_count": null,
   "metadata": {},
   "outputs": [],
   "source": [
    "feats=[]\n",
    "temp=rfe.support_\n",
    "for i in range(0,len(temp)):\n",
    "  if temp[i]:\n",
    "    feats.append(all[i])\n",
    "feats"
   ]
  },
  {
   "cell_type": "code",
   "execution_count": null,
   "metadata": {},
   "outputs": [],
   "source": [
    "feats=['user_activity_var_[2, 3, 11]',\n",
    " 'user_activity_var_[2, 5, 8]',\n",
    " 'user_activity_var_[2, 5, 11]',\n",
    " 'user_activity_var_[2, 6, 11]',\n",
    " 'user_activity_var_[2, 7, 11]',\n",
    " 'user_activity_var_[2, 8, 11]',\n",
    " 'user_activity_var_[3, 5, 11]',\n",
    " 'user_activity_var_[5, 8, 11]',\n",
    " 'new_cpn_1',\n",
    " 'new_cpn_2',\n",
    " 'new_cpn_1_2',\n",
    " 'new_cpn_2_2']\n",
    "#  'signup_weekday_mean',\n",
    "#  'date_diff_mean']"
   ]
  },
  {
   "cell_type": "code",
   "execution_count": null,
   "metadata": {},
   "outputs": [],
   "source": [
    "from sklearn.metrics import f1_score"
   ]
  },
  {
   "cell_type": "code",
   "execution_count": null,
   "metadata": {},
   "outputs": [],
   "source": [
    "clf = RandomForestClassifier(max_depth=5, random_state=0,n_estimators=500)"
   ]
  },
  {
   "cell_type": "code",
   "execution_count": null,
   "metadata": {},
   "outputs": [],
   "source": [
    "clf.fit(x_smote[feats],y_smote)"
   ]
  },
  {
   "cell_type": "code",
   "execution_count": null,
   "metadata": {},
   "outputs": [],
   "source": [
    "print(\"train :\",f1_score(y_smote, clf.predict(x_smote[feats])))\n",
    "print(\"val1 :\",f1_score(val1.buy, clf.predict(val1[feats].fillna(0))))\n",
    "print(\"val2 :\",f1_score(val2.buy, clf.predict(val2[feats].fillna(0))))"
   ]
  },
  {
   "cell_type": "code",
   "execution_count": null,
   "metadata": {},
   "outputs": [],
   "source": [
    "test[\"buy\"]=clf.predict(test[feats].fillna(0))"
   ]
  },
  {
   "cell_type": "code",
   "execution_count": null,
   "metadata": {},
   "outputs": [],
   "source": [
    "test[[\"id\",\"buy\"]].to_csv(\"first_smote.csv\",index=False)"
   ]
  },
  {
   "cell_type": "markdown",
   "metadata": {},
   "source": [
    "## Smote And Under Sampler"
   ]
  },
  {
   "cell_type": "code",
   "execution_count": null,
   "metadata": {},
   "outputs": [],
   "source": [
    "from imblearn.under_sampling import RandomUnderSampler\n",
    "from imblearn.pipeline import Pipeline"
   ]
  },
  {
   "cell_type": "code",
   "execution_count": null,
   "metadata": {},
   "outputs": [],
   "source": [
    "oversample=SMOTE()\n",
    "undersample=RandomUnderSampler()\n",
    "steps=[('o',oversample),('u',undersample)]\n",
    "pipeline=Pipeline(steps=steps)\n",
    "x_pipe,y_pipe=pipeline.fit_resample(train[all].fillna(0),train.buy)"
   ]
  },
  {
   "cell_type": "code",
   "execution_count": null,
   "metadata": {},
   "outputs": [],
   "source": [
    "print('Original dataset shape\\n', Counter(train.buy))\n",
    "print('Resample dataset shape\\n', Counter(y_pipe))"
   ]
  },
  {
   "cell_type": "code",
   "execution_count": null,
   "metadata": {},
   "outputs": [],
   "source": [
    "rfe.fit(x_pipe,y_pipe)"
   ]
  },
  {
   "cell_type": "code",
   "execution_count": null,
   "metadata": {},
   "outputs": [],
   "source": [
    "feats=[]\n",
    "temp=rfe.support_\n",
    "for i in range(0,len(temp)):\n",
    "  if temp[i]:\n",
    "    feats.append(all[i])\n",
    "feats"
   ]
  },
  {
   "cell_type": "code",
   "execution_count": null,
   "metadata": {},
   "outputs": [],
   "source": [
    "feats=['signup_week',\n",
    " 'is_signup',\n",
    " 'user_activity_var_[1, 5, 11]',\n",
    " 'user_activity_var_[2, 5, 11]',\n",
    " 'user_activity_var_[2, 8, 11]',\n",
    " 'user_activity_var_[5, 8, 11]',\n",
    " 'signup_month_count',\n",
    " 'signup_week_count',\n",
    " 'is_signup_count',\n",
    " 'date_diff_mean',\n",
    " 'new_cpn_1',\n",
    " 'new_cpn_2',\n",
    " 'new_cpn_1_2',\n",
    " 'new_cpn_2_2']"
   ]
  },
  {
   "cell_type": "code",
   "execution_count": null,
   "metadata": {},
   "outputs": [],
   "source": [
    "clf = RandomForestClassifier(max_depth=5, random_state=0,n_estimators=500)"
   ]
  },
  {
   "cell_type": "code",
   "execution_count": null,
   "metadata": {},
   "outputs": [],
   "source": [
    "clf.fit(x_pipe[feats],y_pipe)"
   ]
  },
  {
   "cell_type": "code",
   "execution_count": null,
   "metadata": {},
   "outputs": [],
   "source": [
    "print(\"train :\",f1_score(y_pipe, clf.predict(x_pipe[feats])))\n",
    "print(\"val1 :\",f1_score(val1.buy, clf.predict(val1[feats].fillna(0))))\n",
    "print(\"val2 :\",f1_score(val2.buy, clf.predict(val2[feats].fillna(0))))"
   ]
  },
  {
   "cell_type": "code",
   "execution_count": null,
   "metadata": {},
   "outputs": [],
   "source": [
    "test[\"buy\"]=clf.predict(test[feats].fillna(0))"
   ]
  },
  {
   "cell_type": "code",
   "execution_count": null,
   "metadata": {},
   "outputs": [],
   "source": [
    "test[[\"id\",\"buy\"]].to_csv(\"third_smote_under.csv\",index=False)"
   ]
  },
  {
   "cell_type": "markdown",
   "metadata": {},
   "source": [
    "## Smote Tomek"
   ]
  },
  {
   "cell_type": "code",
   "execution_count": null,
   "metadata": {},
   "outputs": [],
   "source": [
    "from imblearn.combine import SMOTETomek\n",
    "from imblearn.under_sampling import TomekLinks\n",
    "\n",
    "resample=SMOTETomek(tomek=TomekLinks(sampling_strategy='majority'),random_state=42)"
   ]
  },
  {
   "cell_type": "code",
   "execution_count": null,
   "metadata": {},
   "outputs": [],
   "source": [
    "x_smottmk, y_smottmk = resample.fit_resample(train[all].fillna(0),train.buy)"
   ]
  },
  {
   "cell_type": "code",
   "execution_count": null,
   "metadata": {},
   "outputs": [],
   "source": [
    "print('Original dataset shape\\n', Counter(train.buy))\n",
    "print('Resample dataset shape\\n', Counter(y_smottmk))"
   ]
  },
  {
   "cell_type": "code",
   "execution_count": null,
   "metadata": {},
   "outputs": [],
   "source": [
    "rfe.fit(x_smottmk,y_smottmk)"
   ]
  },
  {
   "cell_type": "code",
   "execution_count": null,
   "metadata": {},
   "outputs": [],
   "source": [
    "feats=[]\n",
    "temp=rfe.support_\n",
    "for i in range(0,len(temp)):\n",
    "  if temp[i]:\n",
    "    feats.append(all[i])\n",
    "feats"
   ]
  },
  {
   "cell_type": "code",
   "execution_count": null,
   "metadata": {},
   "outputs": [],
   "source": [
    "feats=['user_activity_var_[2, 5, 11]',\n",
    " 'user_activity_var_[2, 6, 11]',\n",
    " 'user_activity_var_[2, 7, 11]',\n",
    " 'user_activity_var_[2, 8, 11]',\n",
    " 'user_activity_var_[5, 7, 11]',\n",
    " 'user_activity_var_[5, 8, 11]']"
   ]
  },
  {
   "cell_type": "code",
   "execution_count": null,
   "metadata": {},
   "outputs": [],
   "source": [
    "clf.fit(x_smottmk[feats],y_smottmk)"
   ]
  },
  {
   "cell_type": "code",
   "execution_count": null,
   "metadata": {},
   "outputs": [],
   "source": [
    "print(\"train :\",f1_score(y_smottmk, clf.predict(x_smottmk[feats])))\n",
    "print(\"val1 :\",f1_score(val1.buy, clf.predict(val1[feats].fillna(0))))\n",
    "print(\"val2 :\",f1_score(val2.buy, clf.predict(val2[feats].fillna(0))))"
   ]
  },
  {
   "cell_type": "code",
   "execution_count": null,
   "metadata": {},
   "outputs": [],
   "source": [
    "test[\"buy\"]=clf.predict(test[feats].fillna(0))"
   ]
  },
  {
   "cell_type": "code",
   "execution_count": null,
   "metadata": {},
   "outputs": [],
   "source": [
    "test[[\"id\",\"buy\"]].to_csv(\"forth_smote_tomek.csv\",index=False)"
   ]
  },
  {
   "cell_type": "markdown",
   "metadata": {},
   "source": [
    "## Smote with KNN"
   ]
  },
  {
   "cell_type": "code",
   "execution_count": null,
   "metadata": {},
   "outputs": [],
   "source": [
    "smote = SMOTE(sampling_strategy='minority')\n",
    "x_smote, y_smote = smote.fit_resample(train[all].fillna(0),train.buy)"
   ]
  },
  {
   "cell_type": "code",
   "execution_count": null,
   "metadata": {},
   "outputs": [],
   "source": [
    "ll=list(x_smote.columns)"
   ]
  },
  {
   "cell_type": "code",
   "execution_count": null,
   "metadata": {},
   "outputs": [],
   "source": [
    "pd.option_context('display.height', 500, 'display.max_rows', 500)"
   ]
  },
  {
   "cell_type": "code",
   "execution_count": null,
   "metadata": {},
   "outputs": [],
   "source": [
    "x_smote"
   ]
  },
  {
   "cell_type": "code",
   "execution_count": null,
   "metadata": {},
   "outputs": [],
   "source": [
    "print('Original dataset shape\\n', Counter(train.buy))\n",
    "print('Resample dataset shape\\n', Counter(y_smote))"
   ]
  },
  {
   "cell_type": "code",
   "execution_count": null,
   "metadata": {},
   "outputs": [],
   "source": [
    "from sklearn import preprocessing\n",
    "min_max_scaler = preprocessing.MinMaxScaler()\n",
    "x_scaled = min_max_scaler.fit_transform(x_smote)\n",
    "x_smote = pd.DataFrame(x_scaled)"
   ]
  },
  {
   "cell_type": "code",
   "execution_count": null,
   "metadata": {},
   "outputs": [],
   "source": [
    "x_smote.columns=ll"
   ]
  },
  {
   "cell_type": "code",
   "execution_count": null,
   "metadata": {},
   "outputs": [],
   "source": [
    "x_smote"
   ]
  },
  {
   "cell_type": "code",
   "execution_count": null,
   "metadata": {},
   "outputs": [],
   "source": [
    "from sklearn.neighbors import KNeighborsClassifier\n",
    "from sklearn import metrics\n",
    "\n",
    "k = 3 \n",
    "\n",
    "neigh = KNeighborsClassifier(n_neighbors = k)"
   ]
  },
  {
   "cell_type": "code",
   "execution_count": null,
   "metadata": {},
   "outputs": [],
   "source": [
    "x_smote.head()"
   ]
  },
  {
   "cell_type": "code",
   "execution_count": null,
   "metadata": {},
   "outputs": [],
   "source": [
    "neigh.fit(x_smote[feats],y_smote)"
   ]
  },
  {
   "cell_type": "code",
   "execution_count": null,
   "metadata": {},
   "outputs": [],
   "source": [
    "print(\"train :\",f1_score(y_smote, neigh.predict(x_smote[feats])))\n",
    "print(\"val1 :\",f1_score(val1.buy, neigh.predict(val1[feats].fillna(0))))\n",
    "print(\"val2 :\",f1_score(val2.buy, neigh.predict(val2[feats].fillna(0))))"
   ]
  },
  {
   "cell_type": "code",
   "execution_count": null,
   "metadata": {},
   "outputs": [],
   "source": [
    "t=list(test.columns)"
   ]
  },
  {
   "cell_type": "code",
   "execution_count": null,
   "metadata": {},
   "outputs": [],
   "source": [
    "test1=test[ll]"
   ]
  },
  {
   "cell_type": "code",
   "execution_count": null,
   "metadata": {},
   "outputs": [],
   "source": [
    "min_max_scaler = preprocessing.MinMaxScaler()\n",
    "x_scaled = min_max_scaler.fit_transform(test1)\n",
    "test1 = pd.DataFrame(x_scaled)"
   ]
  },
  {
   "cell_type": "code",
   "execution_count": null,
   "metadata": {},
   "outputs": [],
   "source": [
    "test1.columns=ll"
   ]
  },
  {
   "cell_type": "code",
   "execution_count": null,
   "metadata": {},
   "outputs": [],
   "source": [
    "test1['buy']=clf.predict(test1[feats].fillna(0))"
   ]
  },
  {
   "cell_type": "code",
   "execution_count": null,
   "metadata": {},
   "outputs": [],
   "source": [
    "test2=pd.concat([test['id'],test1['buy']],axis=1)"
   ]
  },
  {
   "cell_type": "code",
   "execution_count": null,
   "metadata": {},
   "outputs": [],
   "source": [
    "test2.to_csv()"
   ]
  },
  {
   "cell_type": "markdown",
   "metadata": {},
   "source": [
    "## Smote with LGBM Classifier"
   ]
  },
  {
   "cell_type": "code",
   "execution_count": null,
   "metadata": {},
   "outputs": [],
   "source": []
  },
  {
   "cell_type": "code",
   "execution_count": null,
   "metadata": {},
   "outputs": [],
   "source": [
    "all"
   ]
  },
  {
   "cell_type": "code",
   "execution_count": null,
   "metadata": {},
   "outputs": [],
   "source": [
    "from imblearn.over_sampling import SMOTE\n",
    "\n",
    "smote = SMOTE()\n",
    "\n",
    "# fit predictor and target variable\n",
    "x_smote, y_smote = smote.fit_resample(train[all].fillna(0),train.buy)"
   ]
  },
  {
   "cell_type": "code",
   "execution_count": null,
   "metadata": {},
   "outputs": [],
   "source": [
    "train.shape"
   ]
  },
  {
   "cell_type": "code",
   "execution_count": null,
   "metadata": {},
   "outputs": [],
   "source": [
    "train['buy']"
   ]
  },
  {
   "cell_type": "code",
   "execution_count": null,
   "metadata": {},
   "outputs": [],
   "source": []
  },
  {
   "cell_type": "code",
   "execution_count": null,
   "metadata": {},
   "outputs": [],
   "source": []
  },
  {
   "cell_type": "code",
   "execution_count": null,
   "metadata": {},
   "outputs": [],
   "source": []
  },
  {
   "cell_type": "code",
   "execution_count": null,
   "metadata": {},
   "outputs": [],
   "source": []
  },
  {
   "cell_type": "code",
   "execution_count": null,
   "metadata": {},
   "outputs": [],
   "source": []
  },
  {
   "cell_type": "code",
   "execution_count": null,
   "metadata": {},
   "outputs": [],
   "source": []
  },
  {
   "cell_type": "code",
   "execution_count": null,
   "metadata": {},
   "outputs": [],
   "source": []
  },
  {
   "cell_type": "code",
   "execution_count": null,
   "metadata": {},
   "outputs": [],
   "source": []
  },
  {
   "cell_type": "code",
   "execution_count": null,
   "metadata": {},
   "outputs": [],
   "source": [
    "df1=df[df.signup_date>'2016-12-31']"
   ]
  }
 ],
 "metadata": {
  "kernelspec": {
   "display_name": "Python 3",
   "language": "python",
   "name": "python3"
  },
  "language_info": {
   "codemirror_mode": {
    "name": "ipython",
    "version": 3
   },
   "file_extension": ".py",
   "mimetype": "text/x-python",
   "name": "python",
   "nbconvert_exporter": "python",
   "pygments_lexer": "ipython3",
   "version": "3.8.5"
  }
 },
 "nbformat": 4,
 "nbformat_minor": 4
}
